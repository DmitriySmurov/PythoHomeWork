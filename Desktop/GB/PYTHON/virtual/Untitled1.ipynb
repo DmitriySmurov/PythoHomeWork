{
 "cells": [
  {
   "cell_type": "code",
   "execution_count": 1,
   "id": "5fe51d07",
   "metadata": {},
   "outputs": [],
   "source": [
    "import pandas as pd\n",
    "import matplotlib.pyplot as plt"
   ]
  },
  {
   "cell_type": "code",
   "execution_count": null,
   "id": "57f3b9de",
   "metadata": {},
   "outputs": [],
   "source": [
    "df = pd.read_csv('Air_Traffic', delimiter = ',')\n",
    "dfATA = df[df['Operating Airlane'] == 'ATA Airlanes']\n",
    "dfAC = df[df['Operating Airlane'] == 'Air Canada']\n",
    "dfWA = df[df['Operating Airlane'] == 'Westjjet Airlanes']"
   ]
  },
  {
   "cell_type": "code",
   "execution_count": null,
   "id": "e3466b0f",
   "metadata": {},
   "outputs": [],
   "source": [
    "fig, ax = plt.subplots()\n",
    "plt.plot(pd.to_datetime(dfATA.activity_period, format = '%Y%m'), dfATA[Passenger Count], '-*k')\n",
    "plt.plot(pd.to_datetime(dfAC.activity_period, format = '%Y%m'), dfATA[Passenger Count], '-or')\n",
    "plt.plot(pd.to_datetime(dfWA.activity_period, format = '%Y%m'), dfATA[Passenger Count], '-b')\n",
    "plt.show()"
   ]
  },
  {
   "cell_type": "code",
   "execution_count": null,
   "id": "cf54f505",
   "metadata": {},
   "outputs": [],
   "source": []
  }
 ],
 "metadata": {
  "kernelspec": {
   "display_name": "Python 3 (ipykernel)",
   "language": "python",
   "name": "python3"
  },
  "language_info": {
   "codemirror_mode": {
    "name": "ipython",
    "version": 3
   },
   "file_extension": ".py",
   "mimetype": "text/x-python",
   "name": "python",
   "nbconvert_exporter": "python",
   "pygments_lexer": "ipython3",
   "version": "3.10.7"
  }
 },
 "nbformat": 4,
 "nbformat_minor": 5
}
